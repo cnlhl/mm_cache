{
 "cells": [
  {
   "cell_type": "code",
   "execution_count": 59,
   "metadata": {},
   "outputs": [],
   "source": [
    "import multiprocessing\n",
    "import importlib\n",
    "from task import Task\n",
    "import pandas as pd\n",
    "from datablock import DataBlock"
   ]
  },
  {
   "cell_type": "code",
   "execution_count": 8,
   "metadata": {},
   "outputs": [],
   "source": [
    "task1 = Task(\"task1\", 1, [\"20230103_sh600030_order\"], \"strategy_module\", \"strategy_func1\")"
   ]
  },
  {
   "cell_type": "code",
   "execution_count": 14,
   "metadata": {},
   "outputs": [],
   "source": [
    "df = pd.read_hdf('/home/Level2/2023/20230103/sh600030.h5','order')"
   ]
  },
  {
   "cell_type": "code",
   "execution_count": 52,
   "metadata": {},
   "outputs": [],
   "source": [
    "def _run_task(task):\n",
    "    try:\n",
    "        module = importlib.import_module(task.module_name)\n",
    "        print(f\"Running task: {task.task_id}\")\n",
    "        func = getattr(module, task.func_name)\n",
    "        result = func(df)\n",
    "        return result\n",
    "    except Exception as e:\n",
    "        print(f\"Error in task: {e}\")\n",
    "        return None # 或者其他合适的返回值\n",
    "\n",
    "def task_callback(result):\n",
    "    try:\n",
    "        print(f\"Task completed with result: {result}\")\n",
    "    except Exception as e:\n",
    "        print(f\"Error in callback: {e}\")\n"
   ]
  },
  {
   "cell_type": "code",
   "execution_count": 57,
   "metadata": {},
   "outputs": [],
   "source": [
    "pool = multiprocessing.Pool(processes=1)"
   ]
  },
  {
   "cell_type": "code",
   "execution_count": 58,
   "metadata": {},
   "outputs": [
    {
     "name": "stdout",
     "output_type": "stream",
     "text": [
      "Running task: task1\n",
      "Task completed with result: 策略1结果\n"
     ]
    }
   ],
   "source": [
    "pool.apply_async(_run_task, args=(task1,), callback=task_callback)\n",
    "pool.close()\n",
    "pool.join()"
   ]
  },
  {
   "cell_type": "code",
   "execution_count": 60,
   "metadata": {},
   "outputs": [],
   "source": [
    "cache = multiprocessing.Manager().dict()\n",
    "cache['data'] = DataBlock('20230103_sh600030_order')"
   ]
  },
  {
   "cell_type": "code",
   "execution_count": 66,
   "metadata": {},
   "outputs": [],
   "source": [
    "cache['data'].load()"
   ]
  },
  {
   "cell_type": "code",
   "execution_count": 67,
   "metadata": {},
   "outputs": [
    {
     "name": "stdout",
     "output_type": "stream",
     "text": [
      "7418226\n"
     ]
    }
   ],
   "source": [
    "print(cache['data'].size)"
   ]
  }
 ],
 "metadata": {
  "kernelspec": {
   "display_name": "313",
   "language": "python",
   "name": "python3"
  },
  "language_info": {
   "codemirror_mode": {
    "name": "ipython",
    "version": 3
   },
   "file_extension": ".py",
   "mimetype": "text/x-python",
   "name": "python",
   "nbconvert_exporter": "python",
   "pygments_lexer": "ipython3",
   "version": "3.13.1"
  }
 },
 "nbformat": 4,
 "nbformat_minor": 2
}
